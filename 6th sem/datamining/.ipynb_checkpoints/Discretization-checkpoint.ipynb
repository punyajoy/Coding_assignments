{
 "cells": [
  {
   "cell_type": "code",
   "execution_count": 8,
   "metadata": {
    "collapsed": false
   },
   "outputs": [],
   "source": [
    "import pandas as pd\n",
    "from scipy import stats\n",
    "import matplotlib.pyplot as plt\n",
    "import matplotlib.mlab as mlab\n",
    "from sklearn import linear_model,datasets\n",
    "import pprint\n",
    "import numpy as np\n",
    "import math"
   ]
  },
  {
   "cell_type": "code",
   "execution_count": 9,
   "metadata": {
    "collapsed": false
   },
   "outputs": [],
   "source": [
    "x=[]\n",
    "    \n",
    "df=pd.read_excel('Cryotherapy.xlsx')\n",
    "X=df[['Time','Result_of_Treatment']].as_matrix()\n",
    "X=np.matrix(X,dtype='float')\n",
    "X=np.reshape(X,(X.shape[0],X.shape[1]))\n",
    "X=np.sort(X,axis=0)\n"
   ]
  },
  {
   "cell_type": "code",
   "execution_count": 10,
   "metadata": {
    "collapsed": false
   },
   "outputs": [],
   "source": [
    "def cal_entropy(X):\n",
    "    if(X.shape[0]==0):\n",
    "        entropy=0\n",
    "        \n",
    "    else:\n",
    "         unique_elements, counts_elements = np.unique(X[:,1], return_counts=True,axis=0)\n",
    "         entropy=0\n",
    "         for i in counts_elements:\n",
    "             entropy=entropy-(i/sum(counts_elements))*math.log(i/sum(counts_elements))\n",
    "    return entropy"
   ]
  },
  {
   "cell_type": "code",
   "execution_count": 11,
   "metadata": {
    "collapsed": false
   },
   "outputs": [
    {
     "name": "stdout",
     "output_type": "stream",
     "text": [
      "give the minimum info:0.02\n",
      "give the number of discrete values:2\n",
      "0.6823837071967229\n",
      "0.6648605955590423\n",
      "0.6558660542735583\n",
      "0.6278771085712154\n",
      "0.6181896879460055\n",
      "0.6083109275166103\n",
      "0.5774413167593859\n",
      "0.5445151623280848\n",
      "0.49684728644426873\n",
      "0.4841564938443712\n",
      "0.4439157374605955\n",
      "0.42969858675593725\n",
      "0.384212069139496\n",
      "0.3511257282665916\n",
      "0.31533569628974\n",
      "0.276236139410718\n",
      "0.25518348693501003\n",
      "0.23293672912022162\n",
      "0.18400703702792434\n",
      "0.15668719331306546\n",
      "0.05277201118801907\n",
      "0.09039917292646811\n",
      "0.15100225362352598\n",
      "0.24426104411185723\n",
      "0.300738882773099\n",
      "0.3650116142459416\n",
      "0.37957945653282615\n",
      "0.40724286803659565\n",
      "0.433172915931271\n",
      "0.4917820656620915\n",
      "0.5335174248047131\n",
      "0.5716081668769774\n",
      "0.5894856818078079\n",
      "0.6066699289906324\n",
      "0.631263068257887\n",
      "0.6909233093138181\n"
     ]
    },
    {
     "data": {
      "text/plain": [
       "'a=np.split(X,1)\\ntotal_entropy=0\\nfor item1 in a:\\n    total_entropy=total_entropy+(len(item1)/len(X))*cal_entropy(item1)\\n    '"
      ]
     },
     "execution_count": 11,
     "metadata": {},
     "output_type": "execute_result"
    }
   ],
   "source": [
    "thresh_entropy=float(input('give the minimum info:'))\n",
    "discrete=int(input('give the number of discrete values:'))\n",
    "x=[]\n",
    "x.append(X)\n",
    "count=1   \n",
    "flag=0\n",
    "finalist=[]\n",
    "max_count=1\n",
    "while(1):\n",
    "    len_x=len(x)\n",
    "    if(len_x==0):\n",
    "        break\n",
    "    temp_list=[]\n",
    "    for i in range(0,len_x):\n",
    "        X=x[i]\n",
    "        temp_list.append(x[i])\n",
    "        all_unique=np.unique(X[:,0],axis=0)\n",
    "        entropy_min=1\n",
    "        flag_min=0\n",
    "        for item1 in all_unique:\n",
    "            xgsplit=[]\n",
    "            xlsplit=[]\n",
    "            for k in range(0,X.shape[0]):\n",
    "                tuple1=[X[k,0],X[k,1]] \n",
    "                if(X[k,0]<=item1):\n",
    "                   xlsplit.append(tuple1)\n",
    "                else:\n",
    "                   xgsplit.append(tuple1)\n",
    "            xgsplit=np.asarray(xgsplit)\n",
    "            xlsplit=np.asarray(xlsplit)\n",
    "            ent_tot=(xgsplit.shape[0]/(xgsplit.shape[0]+xlsplit.shape[0]))*cal_entropy(xgsplit)+(xlsplit.shape[0]/(xgsplit.shape[0]+xlsplit.shape[0]))*cal_entropy(xlsplit)\n",
    "            print(str(ent_tot))\n",
    "            \n",
    "            if(ent_tot>thresh_entropy):\n",
    "                flag_min=1\n",
    "            if(ent_tot<entropy_min):\n",
    "                plsplit=xlsplit\n",
    "                pgsplit=xgsplit\n",
    "                entropy_min=ent_tot\n",
    "        if(plsplit.shape[0]!=0 and flag_min!=0):\n",
    "            x.append(plsplit)\n",
    "        if(pgsplit.shape[0]!=0 and flag_min!=0):\n",
    "            x.append(pgsplit)\n",
    "        if(flag_min==0):\n",
    "            finalist.append(x[i])   \n",
    "        if(plsplit.shape[0]!=0 and pgsplit.shape[0]!=0 and flag_min!=0):\n",
    "            count=count+1\n",
    "        if(count>=discrete):\n",
    "            flag=1\n",
    "            break\n",
    "    if(flag==1):\n",
    "        for j in temp_list:\n",
    "           x.remove(j)\n",
    "        if(len(x)>0):\n",
    "           for k in x:\n",
    "               finalist.append(j)\n",
    "        break\n",
    "    else:\n",
    "        for j in temp_list:\n",
    "           x.remove(j)\n",
    "    max_count=max_count+1   \n",
    "    \n",
    "\n",
    "\n",
    "\n",
    "\"\"\"a=np.split(X,1)\n",
    "total_entropy=0\n",
    "for item1 in a:\n",
    "    total_entropy=total_entropy+(len(item1)/len(X))*cal_entropy(item1)\n",
    "    \"\"\""
   ]
  },
  {
   "cell_type": "code",
   "execution_count": 15,
   "metadata": {
    "collapsed": false
   },
   "outputs": [
    {
     "data": {
      "text/plain": [
       "4"
      ]
     },
     "execution_count": 15,
     "metadata": {},
     "output_type": "execute_result"
    }
   ],
   "source": [
    "len(finalist)"
   ]
  },
  {
   "cell_type": "code",
   "execution_count": null,
   "metadata": {
    "collapsed": true
   },
   "outputs": [],
   "source": [
    "histogram=np.histogram(X,bins=10)\n",
    "arr=histogram[0].astype('int')\n",
    "sum1=0\n",
    "for i in range(arr.shape[0]):\n",
    "    sum1=sum1+arr[i]\n",
    "    arr[i]=sum1\n",
    "l_split=np.array_split(X,arr[1:(arr.shape[0]-1)])\n"
   ]
  },
  {
   "cell_type": "code",
   "execution_count": null,
   "metadata": {
    "collapsed": true
   },
   "outputs": [],
   "source": [
    "\n",
    "##discretization using 3 4 5 natural partition###\n",
    "x=[]\n",
    "x.append(X)\n",
    "discrete=int(input('give the number of discrete values:'))\n",
    "count=1    \n",
    "while(1):\n",
    "    len_x=len(x)\n",
    "    flag=0\n",
    "    temp_list=[]\n",
    "    for i in range(0,len_x):\n",
    "        temp_list.append(x[i])\n",
    "        X_1=(np.floor(x[i].copy()/int(10))).astype(int)\n",
    "        X_new=np.unique(X_1,axis=0) \n",
    "        if(X_new.shape[0]==3 or X_new.shape[0]==6 or X_new.shape[0]==9):\n",
    "            print(\"the number of partition is 3\")\n",
    "            l=np.array_split(x[i],3)\n",
    "            count=count+2\n",
    "        elif(X_new.shape[0]==2 or X_new.shape[0]==4 or X_new.shape[0]==8):\n",
    "            print(\"the number of partition is 4\")\n",
    "            l=np.array_split(x[i],4)    \n",
    "            count=count+3\n",
    "        elif(X_new.shape[0]==1 or X_new.shape[0]==5 or X_new.shape[0]==10):\n",
    "            print(\"the number of partition is 5\")\n",
    "            l=np.array_split(x[i],5)\n",
    "            count=count+4\n",
    "        for i in range(len(l)):\n",
    "            x.append(l[i])\n",
    "        if((len(x)-len(temp_list))>discrete):\n",
    "            flag=1\n",
    "            break\n",
    "    for j in temp_list:\n",
    "        x.remove(j)\n",
    "    if flag==1:\n",
    "        break"
   ]
  },
  {
   "cell_type": "code",
   "execution_count": null,
   "metadata": {
    "collapsed": true
   },
   "outputs": [],
   "source": [
    "###discretization using entropy####\n"
   ]
  }
 ],
 "metadata": {
  "anaconda-cloud": {},
  "kernelspec": {
   "display_name": "Python [conda root]",
   "language": "python",
   "name": "conda-root-py"
  },
  "language_info": {
   "codemirror_mode": {
    "name": "ipython",
    "version": 3
   },
   "file_extension": ".py",
   "mimetype": "text/x-python",
   "name": "python",
   "nbconvert_exporter": "python",
   "pygments_lexer": "ipython3",
   "version": "3.5.2"
  }
 },
 "nbformat": 4,
 "nbformat_minor": 1
}
